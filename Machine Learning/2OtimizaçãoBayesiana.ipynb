{
 "cells": [
  {
   "cell_type": "code",
   "execution_count": 1,
   "id": "2b42bec8",
   "metadata": {},
   "outputs": [],
   "source": [
    "# -*- coding: utf-8 -*-\n",
    "\n",
    "# --- 1. PREPARAÇÃO DO AMBIENTE ---\n",
    "import pandas as pd\n",
    "import numpy as np\n",
    "import seaborn as sns\n",
    "import matplotlib.pyplot as plt\n",
    "\n",
    "# Modelos do Scikit-learn\n",
    "from sklearn.model_selection import train_test_split\n",
    "from sklearn.tree import DecisionTreeClassifier\n",
    "from sklearn.ensemble import RandomForestClassifier\n",
    "\n",
    "# Métricas de avaliação\n",
    "from sklearn.metrics import accuracy_score, classification_report, confusion_matrix"
   ]
  },
  {
   "cell_type": "code",
   "execution_count": 2,
   "id": "f3b59cd5",
   "metadata": {},
   "outputs": [
    {
     "name": "stdout",
     "output_type": "stream",
     "text": [
      "--- Informações Iniciais do Dataset ---\n",
      "<class 'pandas.core.frame.DataFrame'>\n",
      "RangeIndex: 891 entries, 0 to 890\n",
      "Data columns (total 12 columns):\n",
      " #   Column       Non-Null Count  Dtype  \n",
      "---  ------       --------------  -----  \n",
      " 0   PassengerId  891 non-null    int64  \n",
      " 1   Survived     891 non-null    int64  \n",
      " 2   Pclass       891 non-null    int64  \n",
      " 3   Name         891 non-null    object \n",
      " 4   Sex          891 non-null    object \n",
      " 5   Age          714 non-null    float64\n",
      " 6   SibSp        891 non-null    int64  \n",
      " 7   Parch        891 non-null    int64  \n",
      " 8   Ticket       891 non-null    object \n",
      " 9   Fare         891 non-null    float64\n",
      " 10  Cabin        204 non-null    object \n",
      " 11  Embarked     889 non-null    object \n",
      "dtypes: float64(2), int64(5), object(5)\n",
      "memory usage: 83.7+ KB\n",
      "\n",
      "--- Primeiras Linhas do Dataset ---\n",
      "   PassengerId  Survived  Pclass  \\\n",
      "0            1         0       3   \n",
      "1            2         1       1   \n",
      "2            3         1       3   \n",
      "3            4         1       1   \n",
      "4            5         0       3   \n",
      "\n",
      "                                                Name     Sex   Age  SibSp  \\\n",
      "0                            Braund, Mr. Owen Harris    male  22.0      1   \n",
      "1  Cumings, Mrs. John Bradley (Florence Briggs Th...  female  38.0      1   \n",
      "2                             Heikkinen, Miss. Laina  female  26.0      0   \n",
      "3       Futrelle, Mrs. Jacques Heath (Lily May Peel)  female  35.0      1   \n",
      "4                           Allen, Mr. William Henry    male  35.0      0   \n",
      "\n",
      "   Parch            Ticket     Fare Cabin Embarked  \n",
      "0      0         A/5 21171   7.2500   NaN        S  \n",
      "1      0          PC 17599  71.2833   C85        C  \n",
      "2      0  STON/O2. 3101282   7.9250   NaN        S  \n",
      "3      0            113803  53.1000  C123        S  \n",
      "4      0            373450   8.0500   NaN        S  \n"
     ]
    }
   ],
   "source": [
    "# --- 2. CARGA E LIMPEZA DE DADOS ---\n",
    "# Carregando a base de dados diretamente do repositório do Kaggle no GitHub\n",
    "# Usaremos apenas o arquivo de treino, que contém a variável alvo ('Survived')\n",
    "url = 'https://raw.githubusercontent.com/datasciencedojo/datasets/master/titanic.csv'\n",
    "df = pd.read_csv(url)\n",
    "\n",
    "print(\"--- Informações Iniciais do Dataset ---\")\n",
    "df.info()\n",
    "print(\"\\n--- Primeiras Linhas do Dataset ---\")\n",
    "print(df.head())"
   ]
  },
  {
   "cell_type": "code",
   "execution_count": 3,
   "id": "b3ab443f",
   "metadata": {},
   "outputs": [],
   "source": [
    "# Tratando dados faltantes\n",
    "# 'Age': Preencher com a mediana é uma abordagem robusta contra outliers\n",
    "df['Age'] = df['Age'].fillna(df['Age'].median())\n",
    "\n",
    "# 'Embarked': Preencher com a moda (o valor mais comum)\n",
    "df['Embarked'] = df['Embarked'].fillna(df['Embarked'].mode()[0])\n",
    "\n",
    "# 'Cabin': Possui muitos valores nulos (quase 77%). A abordagem mais simples é remover a coluna.\n",
    "# Poderíamos tentar extrair informação (como a primeira letra do deck), mas para este comparativo, vamos remover.\n",
    "df.drop('Cabin', axis=1, inplace=True)\n",
    "\n",
    "# Removendo colunas que não agregam valor preditivo direto para o modelo\n",
    "df.drop(['PassengerId', 'Name', 'Ticket'], axis=1, inplace=True)"
   ]
  },
  {
   "cell_type": "code",
   "execution_count": 4,
   "id": "396a4e36",
   "metadata": {},
   "outputs": [
    {
     "name": "stdout",
     "output_type": "stream",
     "text": [
      "\n",
      "--- Dataset Após Pré-processamento ---\n",
      "   Survived  Pclass   Age  SibSp  Parch     Fare  Sex_male  Embarked_Q  \\\n",
      "0         0       3  22.0      1      0   7.2500      True       False   \n",
      "1         1       1  38.0      1      0  71.2833     False       False   \n",
      "2         1       3  26.0      0      0   7.9250     False       False   \n",
      "3         1       1  35.0      1      0  53.1000     False       False   \n",
      "4         0       3  35.0      0      0   8.0500      True       False   \n",
      "\n",
      "   Embarked_S  \n",
      "0        True  \n",
      "1       False  \n",
      "2        True  \n",
      "3        True  \n",
      "4        True  \n"
     ]
    }
   ],
   "source": [
    "# --- 3. PRÉ-PROCESSAMENTO E ENGENHARIA DE FEATURES ---\n",
    "# Convertendo variáveis categóricas em variáveis numéricas (dummy variables)\n",
    "# Usamos 'drop_first=True' para evitar multicolinearidade\n",
    "df = pd.get_dummies(df, columns=['Sex', 'Embarked'], drop_first=True)\n",
    "\n",
    "print(\"\\n--- Dataset Após Pré-processamento ---\")\n",
    "print(df.head())"
   ]
  },
  {
   "cell_type": "code",
   "execution_count": 5,
   "id": "deeda775",
   "metadata": {},
   "outputs": [],
   "source": [
    "# --- 4. DIVISÃO DOS DADOS ---\n",
    "# Separando as variáveis independentes (features, X) da variável dependente (alvo, y)\n",
    "X = df.drop('Survived', axis=1)\n",
    "y = df['Survived']\n",
    "\n",
    "# Dividindo em conjuntos de treino e teste (80% para treino, 20% para teste)\n",
    "# 'random_state' garante que a divisão seja sempre a mesma, para reprodutibilidade\n",
    "# 'stratify=y' garante que a proporção de sobreviventes/não sobreviventes seja a mesma nos dois conjuntos\n",
    "X_train, X_test, y_train, y_test = train_test_split(X, y, test_size=0.2, random_state=42, stratify=y)"
   ]
  },
  {
   "cell_type": "code",
   "execution_count": 6,
   "id": "131dafa3",
   "metadata": {},
   "outputs": [
    {
     "name": "stdout",
     "output_type": "stream",
     "text": [
      "--- Iniciando Otimização Bayesiana ---\n",
      "\n",
      "Otimizando a Árvore de Decisão...\n",
      "Melhores parâmetros para Árvore de Decisão: OrderedDict({'criterion': 'entropy', 'max_depth': 30, 'min_samples_leaf': 40, 'min_samples_split': 29})\n",
      "\n",
      "Otimizando o Random Forest...\n",
      "Melhores parâmetros para Random Forest: OrderedDict({'max_depth': 5, 'max_features': 'sqrt', 'min_samples_leaf': 5, 'min_samples_split': 2, 'n_estimators': 54})\n"
     ]
    }
   ],
   "source": [
    "# --- 5. OTIMIZAÇÃO DE HIPERPARÂMETROS COM BUSCA BAYESIANA ---\n",
    "from skopt import BayesSearchCV\n",
    "from skopt.space import Real, Categorical, Integer\n",
    "\n",
    "print(\"--- Iniciando Otimização Bayesiana ---\")\n",
    "\n",
    "# --- Otimizador para a Árvore de Decisão ---\n",
    "print(\"\\nOtimizando a Árvore de Decisão...\")\n",
    "\n",
    "# Definindo o espaço de busca dos hiperparâmetros\n",
    "search_space_dt = {\n",
    "    'criterion': Categorical(['gini', 'entropy']),\n",
    "    'max_depth': Integer(3, 50),\n",
    "    'min_samples_split': Integer(2, 100),\n",
    "    'min_samples_leaf': Integer(1, 100)\n",
    "}\n",
    "\n",
    "# Criando o otimizador Bayesiano\n",
    "# n_iter: número de combinações de parâmetros a testar\n",
    "# cv: número de folds para a validação cruzada\n",
    "bayes_search_dt = BayesSearchCV(\n",
    "    estimator=DecisionTreeClassifier(random_state=42),\n",
    "    search_spaces=search_space_dt,\n",
    "    n_iter=30,\n",
    "    cv=5,\n",
    "    scoring='accuracy',\n",
    "    n_jobs=-1, # Usar todos os processadores disponíveis\n",
    "    random_state=42\n",
    ")\n",
    "\n",
    "# Executando a busca (usando apenas dados de treino para evitar data leakage)\n",
    "bayes_search_dt.fit(X_train, y_train)\n",
    "\n",
    "# Melhor modelo encontrado\n",
    "best_dt_model = bayes_search_dt.best_estimator_\n",
    "print(f\"Melhores parâmetros para Árvore de Decisão: {bayes_search_dt.best_params_}\")\n",
    "\n",
    "\n",
    "# --- Otimizador para o Random Forest ---\n",
    "print(\"\\nOtimizando o Random Forest...\")\n",
    "\n",
    "# Definindo o espaço de busca\n",
    "search_space_rf = {\n",
    "    'n_estimators': Integer(50, 300),\n",
    "    'max_depth': Integer(5, 50),\n",
    "    'min_samples_split': Integer(2, 100),\n",
    "    'min_samples_leaf': Integer(1, 100),\n",
    "    'max_features': Categorical(['sqrt', 'log2'])\n",
    "}\n",
    "\n",
    "# Criando o otimizador Bayesiano\n",
    "bayes_search_rf = BayesSearchCV(\n",
    "    estimator=RandomForestClassifier(random_state=42),\n",
    "    search_spaces=search_space_rf,\n",
    "    n_iter=50, # Mais iterações, pois o espaço de busca é maior\n",
    "    cv=5,\n",
    "    scoring='accuracy',\n",
    "    n_jobs=-1,\n",
    "    random_state=42\n",
    ")\n",
    "\n",
    "# Executando a busca\n",
    "bayes_search_rf.fit(X_train, y_train)\n",
    "\n",
    "# Melhor modelo encontrado\n",
    "best_rf_model = bayes_search_rf.best_estimator_\n",
    "print(f\"Melhores parâmetros para Random Forest: {bayes_search_rf.best_params_}\")"
   ]
  },
  {
   "cell_type": "code",
   "execution_count": 8,
   "id": "28de8762",
   "metadata": {},
   "outputs": [],
   "source": [
    "# --- 6. AVALIAÇÃO DETALHADA ---\n",
    "\n",
    "def evaluate_model(model_name, y_true, y_pred):\n",
    "    \"\"\"Função para exibir as métricas de avaliação de forma organizada.\"\"\"\n",
    "    print(f\"--- Avaliação do Modelo: {model_name} ---\")\n",
    "    \n",
    "    # Acurácia Geral\n",
    "    accuracy = accuracy_score(y_true, y_pred)\n",
    "    print(f\"Acurácia Geral: {accuracy:.4f}\\n\")\n",
    "    \n",
    "    # Relatório de Classificação (com métricas por classe)\n",
    "    print(\"Relatório de Classificação:\")\n",
    "    print(classification_report(y_true, y_pred, target_names=['Não Sobreviveu (0)', 'Sobreviveu (1)']))\n",
    "    \n",
    "    # Matriz de Confusão\n",
    "    cm = confusion_matrix(y_true, y_pred)\n",
    "    plt.figure(figsize=(6, 4))\n",
    "    sns.heatmap(cm, annot=True, fmt='d', cmap='Blues', \n",
    "                xticklabels=['Não Sobreviveu', 'Sobreviveu'], \n",
    "                yticklabels=['Não Sobreviveu', 'Sobreviveu'])\n",
    "    plt.xlabel('Predito')\n",
    "    plt.ylabel('Verdadeiro')\n",
    "    plt.title(f'Matriz de Confusão - {model_name}')\n",
    "    plt.show()\n",
    " "
   ]
  },
  {
   "cell_type": "code",
   "execution_count": 9,
   "id": "0b4a5b72",
   "metadata": {},
   "outputs": [
    {
     "name": "stdout",
     "output_type": "stream",
     "text": [
      "--- Avaliação do Modelo: Árvore de Decisão Otimizada ---\n",
      "Acurácia Geral: 0.7933\n",
      "\n",
      "Relatório de Classificação:\n",
      "                    precision    recall  f1-score   support\n",
      "\n",
      "Não Sobreviveu (0)       0.77      0.95      0.85       110\n",
      "    Sobreviveu (1)       0.86      0.55      0.67        69\n",
      "\n",
      "          accuracy                           0.79       179\n",
      "         macro avg       0.82      0.75      0.76       179\n",
      "      weighted avg       0.81      0.79      0.78       179\n",
      "\n"
     ]
    },
    {
     "data": {
      "image/png": "[encoded data removed]",
      "text/plain": [
       "<Figure size 600x400 with 2 Axes>"
      ]
     },
     "metadata": {},
     "output_type": "display_data"
    },
    {
     "name": "stdout",
     "output_type": "stream",
     "text": [
      "--- Avaliação do Modelo: Random Forest Otimizado ---\n",
      "Acurácia Geral: 0.8045\n",
      "\n",
      "Relatório de Classificação:\n",
      "                    precision    recall  f1-score   support\n",
      "\n",
      "Não Sobreviveu (0)       0.79      0.94      0.85       110\n",
      "    Sobreviveu (1)       0.85      0.59      0.70        69\n",
      "\n",
      "          accuracy                           0.80       179\n",
      "         macro avg       0.82      0.77      0.78       179\n",
      "      weighted avg       0.81      0.80      0.80       179\n",
      "\n"
     ]
    },
    {
     "data": {
      "image/png": "[encoded data removed]",
      "text/plain": [
       "<Figure size 600x400 with 2 Axes>"
      ]
     },
     "metadata": {},
     "output_type": "display_data"
    }
   ],
   "source": [
    "# --- 7. AVALIAÇÃO DOS MODELOS OTIMIZADOS ---\n",
    "\n",
    "# Previsões com os melhores modelos encontrados\n",
    "y_pred_dt_optimized = best_dt_model.predict(X_test)\n",
    "y_pred_rf_optimized = best_rf_model.predict(X_test)\n",
    "\n",
    "# Reutilizando a função de avaliação\n",
    "\n",
    "# Avaliando a Árvore de Decisão Otimizada\n",
    "evaluate_model(\"Árvore de Decisão Otimizada\", y_test, y_pred_dt_optimized)\n",
    "\n",
    "# Avaliando o Random Forest Otimizado\n",
    "evaluate_model(\"Random Forest Otimizado\", y_test, y_pred_rf_optimized)"
   ]
  }
 ],
 "metadata": {
  "kernelspec": {
   "display_name": "Python [conda env:base] *",
   "language": "python",
   "name": "conda-base-py"
  },
  "language_info": {
   "codemirror_mode": {
    "name": "ipython",
    "version": 3
   },
   "file_extension": ".py",
   "mimetype": "text/x-python",
   "name": "python",
   "nbconvert_exporter": "python",
   "pygments_lexer": "ipython3",
   "version": "3.13.5"
  }
 },
 "nbformat": 4,
 "nbformat_minor": 5
}
